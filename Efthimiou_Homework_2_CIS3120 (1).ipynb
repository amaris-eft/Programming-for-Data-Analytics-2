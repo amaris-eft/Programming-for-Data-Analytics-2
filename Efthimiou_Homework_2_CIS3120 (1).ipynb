{
 "cells": [
  {
   "cell_type": "markdown",
   "id": "3f96f5ca",
   "metadata": {},
   "source": [
    "### CIS3120 Homework 2\n",
    "- Due by April 1st \n",
    "- Submit through the blackboard link\n",
    "- Submit with the notebook file (.ipynb)"
   ]
  },
  {
   "cell_type": "markdown",
   "id": "eac00120",
   "metadata": {},
   "source": [
    "1. Create a Pandas DataFrame from the following lists and set 'labels' as index of this DataFrame. (5 points)\n",
    "\n",
    "name = ['Anastasia', 'Dima', 'Katherine', 'James', 'Emily', 'Michael', 'Matthew', 'Laura', 'Kevin', 'Jonas'] <br>\n",
    "score = [12.5, 9, 16.5, np.nan, 9, 20, 14.5, np.nan, 8, 19] <br>\n",
    "attempts = [1, 3, 2, 3, 2, 3, 1, 1, 2, 1] <br>\n",
    "qualify = ['yes', 'no', 'yes', 'no', 'no', 'yes', 'yes', 'no', 'no', 'yes'] <br>\n",
    "labels = ['a', 'b', 'c', 'd', 'e', 'f', 'g', 'h', 'i', 'j'] "
   ]
  },
  {
   "cell_type": "code",
   "execution_count": 1,
   "id": "68b6cdcd",
   "metadata": {},
   "outputs": [
    {
     "name": "stdout",
     "output_type": "stream",
     "text": [
      "        name  score  attempts qualify\n",
      "a  Anastasia   12.5         1     yes\n",
      "b       Dima    9.0         3      no\n",
      "c  Katherine   16.5         2     yes\n",
      "d      James    NaN         3      no\n",
      "e      Emily    9.0         2      no\n",
      "f    Michael   20.0         3     yes\n",
      "g    Matthew   14.5         1     yes\n",
      "h      Laura    NaN         1      no\n",
      "i      Kevin    8.0         2      no\n",
      "j      Jonas   19.0         1     yes\n"
     ]
    }
   ],
   "source": [
    "import pandas as pd\n",
    "import numpy as np\n",
    "name = ['Anastasia', 'Dima', 'Katherine', 'James', 'Emily', 'Michael', 'Matthew', 'Laura', 'Kevin', 'Jonas']\n",
    "score = [12.5, 9, 16.5, np.nan, 9, 20, 14.5, np.nan, 8, 19]\n",
    "attempts = [1, 3, 2, 3, 2, 3, 1, 1, 2, 1]\n",
    "qualify = ['yes', 'no', 'yes', 'no', 'no', 'yes', 'yes', 'no', 'no', 'yes']\n",
    "labels = ['a', 'b', 'c', 'd', 'e', 'f', 'g', 'h', 'i', 'j']\n",
    "df = pd.DataFrame(list(zip(name, score, attempts, qualify)), columns=['name','score', 'attempts', 'qualify'])\n",
    "df.index = labels\n",
    "print(df)\n",
    "#Expected output"
   ]
  },
  {
   "cell_type": "markdown",
   "id": "7ee0ce59",
   "metadata": {},
   "source": [
    "Complete the following questions based on the DataFrame you have created from the previous question (#1) (40 points)\n",
    "\n",
    "1.1 Get the first 3 rows from the DataFrame, and save selected data in a new dataframe.  (5 points)\n",
    "\n",
    "1.2 Select the rows where the number of attempts in the examination is less than 2 and score greater than 15. (10 points)\n",
    "\n",
    "1.3 Find students whose score are missing (i.e. is NaN) and the number of attempts they have done. (15 points)\n",
    "\n",
    "1.4 Find average number of attempts for qualified students and not qualified students. (10 points)"
   ]
  },
  {
   "cell_type": "code",
   "execution_count": 2,
   "id": "543d0b41",
   "metadata": {},
   "outputs": [
    {
     "name": "stdout",
     "output_type": "stream",
     "text": [
      "        name  score  attempts qualify\n",
      "a  Anastasia   12.5         1     yes\n",
      "b       Dima    9.0         3      no\n",
      "c  Katherine   16.5         2     yes\n"
     ]
    }
   ],
   "source": [
    "#1.1 Get the first 3 rows from the DataFrame, and save selected data in a new dataframe.\n",
    "df2 = df.head(3)\n",
    "print(df2)"
   ]
  },
  {
   "cell_type": "code",
   "execution_count": 3,
   "id": "785d913d",
   "metadata": {},
   "outputs": [
    {
     "name": "stdout",
     "output_type": "stream",
     "text": [
      "    name  score  attempts qualify\n",
      "j  Jonas   19.0         1     yes\n"
     ]
    }
   ],
   "source": [
    "#1.2 Select the rows where the number of attempts in the examination is less than 2 and score greater than 15.\n",
    "print(df[(df['attempts'] < 2) & (df['score'] > 15)])"
   ]
  },
  {
   "cell_type": "code",
   "execution_count": 4,
   "id": "6e75355e",
   "metadata": {},
   "outputs": [
    {
     "name": "stdout",
     "output_type": "stream",
     "text": [
      "    name  score  attempts qualify\n",
      "d  James    NaN         3      no\n",
      "h  Laura    NaN         1      no\n"
     ]
    }
   ],
   "source": [
    "#1.3 Find students whose score are missing (i.e. is NaN) and the number of attempts they have done.\n",
    "print(df[df['score'].isnull() & ['attempts']])"
   ]
  },
  {
   "cell_type": "code",
   "execution_count": 5,
   "id": "9e7848a8",
   "metadata": {},
   "outputs": [
    {
     "name": "stdout",
     "output_type": "stream",
     "text": [
      "the average score for unqualified students is: \n",
      "8.666666666666666\n",
      "the average score for qualified students is: \n",
      "16.5\n"
     ]
    }
   ],
   "source": [
    "#1.4 Find average number of attempts for qualified students and not qualified students.\n",
    "rslt_df = df[(df['qualify'] == 'no')] #create df for students that do not qualify\n",
    "print(\"the average score for unqualified students is: \")\n",
    "print(rslt_df[\"score\"].mean()) #get mean score for unqualified students\n",
    "rslt_df2 = df[(df['qualify'] == 'yes')] #create df for students that qualify\n",
    "print(\"the average score for qualified students is: \")\n",
    "print(rslt_df2[\"score\"].mean()) #get mean score for qualified students"
   ]
  },
  {
   "cell_type": "markdown",
   "id": "80720be6",
   "metadata": {},
   "source": [
    "2. Create a Pandas DataFrame with following lists. (5 points)\n",
    "\n",
    "ord_no = [70001,np.nan,70002,70004,np.nan,70005,np.nan,70010,70003,70012,np.nan,70013] <br>\n",
    "purch_amt = [150.5,270.65,65.26,110.5,948.5,2400.6,5760,1983.43,2480.4,250.45, 75.29,3045.6] <br>\n",
    "ord_date = ['2012-10-05','2012-09-10',np.nan,'2012-08-17','2012-09-10','2012-07-27','2012-09-10',\n",
    "'2012-10-10','2012-10-10','2012-06-27','2012-08-17','2012-04-25'] <br>\n",
    "customer_id'= [3002,3001,3001,3003,3002,3001,3001,3004,3003,3002,3001,3001] <br>\n",
    "salesman_id' = [5002,5003,5001,np.nan,5002,5001,5001,np.nan,5003,5002,5003,np.nan] <br>\n"
   ]
  },
  {
   "cell_type": "code",
   "execution_count": 6,
   "id": "e1455ef3",
   "metadata": {},
   "outputs": [
    {
     "name": "stdout",
     "output_type": "stream",
     "text": [
      "     ord_no  purch_amt    ord_date  customer_id  salesman_id\n",
      "0   70001.0     150.50  2012-10-05         3002       5002.0\n",
      "1       NaN     270.65  2012-09-10         3001       5003.0\n",
      "2   70002.0      65.26         NaN         3001       5001.0\n",
      "3   70004.0     110.50  2012-08-17         3003          NaN\n",
      "4       NaN     948.50  2012-09-10         3002       5002.0\n",
      "5   70005.0    2400.60  2012-07-27         3001       5001.0\n",
      "6       NaN    5760.00  2012-09-10         3001       5001.0\n",
      "7   70010.0    1983.43  2012-10-10         3004          NaN\n",
      "8   70003.0    2480.40  2012-10-10         3003       5003.0\n",
      "9   70012.0     250.45  2012-06-27         3002       5002.0\n",
      "10      NaN      75.29  2012-08-17         3001       5003.0\n",
      "11  70013.0    3045.60  2012-04-25         3001          NaN\n"
     ]
    }
   ],
   "source": [
    "ord_no = [70001,np.nan,70002,70004,np.nan,70005,np.nan,70010,70003,70012,np.nan,70013]\n",
    "purch_amt = [150.5,270.65,65.26,110.5,948.5,2400.6,5760,1983.43,2480.4,250.45, 75.29,3045.6]\n",
    "ord_date = ['2012-10-05','2012-09-10',np.nan,'2012-08-17','2012-09-10','2012-07-27','2012-09-10', '2012-10-10','2012-10-10','2012-06-27','2012-08-17','2012-04-25']\n",
    "customer_id = [3002,3001,3001,3003,3002,3001,3001,3004,3003,3002,3001,3001]\n",
    "salesman_id = [5002,5003,5001,np.nan,5002,5001,5001,np.nan,5003,5002,5003,np.nan]\n",
    "df3 = pd.DataFrame(list(zip(ord_no, purch_amt, ord_date, customer_id, salesman_id)), columns=['ord_no','purch_amt', 'ord_date', 'customer_id', 'salesman_id'])\n",
    "print(df3)\n",
    "#Expected output\n",
    "\n",
    "\n"
   ]
  },
  {
   "cell_type": "markdown",
   "id": "bf85a8d7",
   "metadata": {},
   "source": [
    "Complete the following questions based on the DataFrame you have created from the previous question (#2) (50 points)\n",
    "\n",
    "2.1 Detect missing values of the DataFrame created from #2. Display True or False. (5 points)\n",
    "\n",
    "2.2 Identify the column(s) of the DataFrame which have at least one missing value. (5 points)\n",
    "\n",
    "2.3 Count the number of missing values in each column of the DataFrame. (5 points)\n",
    "\n",
    "2.4 Delete the row(s) of the DataFrame which have missing values in the column 'salesman_id'; replace all NAs in the column 'ord_no' with 0; replace the NA in the column 'ord_date' with value from the previous row. (15 points)\n",
    "\n",
    "2.5 Group the DataFrame by salesman and calculate each salesman's minimum, maximum and mean sales amount. (10 points)\n",
    "\n",
    "2.6 Create a pivot table and find the total sale amount salesman wise and order date wise. (10 points)"
   ]
  },
  {
   "cell_type": "code",
   "execution_count": 7,
   "id": "cef9a5ad",
   "metadata": {},
   "outputs": [
    {
     "name": "stdout",
     "output_type": "stream",
     "text": [
      "    ord_no  purch_amt  ord_date  customer_id  salesman_id\n",
      "0    False      False     False        False        False\n",
      "1     True      False     False        False        False\n",
      "2    False      False      True        False        False\n",
      "3    False      False     False        False         True\n",
      "4     True      False     False        False        False\n",
      "5    False      False     False        False        False\n",
      "6     True      False     False        False        False\n",
      "7    False      False     False        False         True\n",
      "8    False      False     False        False        False\n",
      "9    False      False     False        False        False\n",
      "10    True      False     False        False        False\n",
      "11   False      False     False        False         True\n"
     ]
    }
   ],
   "source": [
    "#2.1 Detect missing values of the DataFrame created from #2. Display True or False\n",
    "print(df3.isna())"
   ]
  },
  {
   "cell_type": "code",
   "execution_count": 8,
   "id": "a70754fe",
   "metadata": {},
   "outputs": [
    {
     "name": "stdout",
     "output_type": "stream",
     "text": [
      "ord_no          True\n",
      "purch_amt      False\n",
      "ord_date        True\n",
      "customer_id    False\n",
      "salesman_id     True\n",
      "dtype: bool\n"
     ]
    }
   ],
   "source": [
    "#2.2 Identify the column(s) of the DataFrame which have at least one missing value. (5 points)\n",
    "print(df3.isna().any())"
   ]
  },
  {
   "cell_type": "code",
   "execution_count": 9,
   "id": "74a7c25b",
   "metadata": {},
   "outputs": [
    {
     "name": "stdout",
     "output_type": "stream",
     "text": [
      "ord_no         4\n",
      "purch_amt      0\n",
      "ord_date       1\n",
      "customer_id    0\n",
      "salesman_id    3\n",
      "dtype: int64\n"
     ]
    }
   ],
   "source": [
    "#2.3 Count the number of missing values in each column of the DataFrame. (5 points)\n",
    "print(df3.isna().sum())"
   ]
  },
  {
   "cell_type": "code",
   "execution_count": 10,
   "id": "c2dc8103",
   "metadata": {},
   "outputs": [
    {
     "name": "stdout",
     "output_type": "stream",
     "text": [
      "     ord_no  purch_amt    ord_date  customer_id  salesman_id\n",
      "0   70001.0     150.50  2012-10-05         3002       5002.0\n",
      "1       NaN     270.65  2012-09-10         3001       5003.0\n",
      "2   70002.0      65.26         NaN         3001       5001.0\n",
      "4       NaN     948.50  2012-09-10         3002       5002.0\n",
      "5   70005.0    2400.60  2012-07-27         3001       5001.0\n",
      "6       NaN    5760.00  2012-09-10         3001       5001.0\n",
      "8   70003.0    2480.40  2012-10-10         3003       5003.0\n",
      "9   70012.0     250.45  2012-06-27         3002       5002.0\n",
      "10      NaN      75.29  2012-08-17         3001       5003.0\n"
     ]
    }
   ],
   "source": [
    "#2.4 Delete the row(s) of the DataFrame which have missing values in the column 'salesman_id'\n",
    "df3 = df3.dropna(axis=0, subset=['salesman_id'])\n",
    "print(df3)"
   ]
  },
  {
   "cell_type": "code",
   "execution_count": 11,
   "id": "b6e723a5",
   "metadata": {},
   "outputs": [
    {
     "name": "stdout",
     "output_type": "stream",
     "text": [
      "     ord_no  purch_amt    ord_date  customer_id  salesman_id\n",
      "0   70001.0     150.50  2012-10-05         3002       5002.0\n",
      "1         0     270.65  2012-09-10         3001       5003.0\n",
      "2   70002.0      65.26         NaN         3001       5001.0\n",
      "4         0     948.50  2012-09-10         3002       5002.0\n",
      "5   70005.0    2400.60  2012-07-27         3001       5001.0\n",
      "6         0    5760.00  2012-09-10         3001       5001.0\n",
      "8   70003.0    2480.40  2012-10-10         3003       5003.0\n",
      "9   70012.0     250.45  2012-06-27         3002       5002.0\n",
      "10        0      75.29  2012-08-17         3001       5003.0\n"
     ]
    }
   ],
   "source": [
    "#2.4  replace all NAs in the column 'ord_no' with 0\n",
    "df3['ord_no'] = df3['ord_no'].replace(np.nan, '0')\n",
    "print(df3)"
   ]
  },
  {
   "cell_type": "code",
   "execution_count": 12,
   "id": "29eb0f63",
   "metadata": {},
   "outputs": [
    {
     "name": "stdout",
     "output_type": "stream",
     "text": [
      "     ord_no  purch_amt    ord_date  customer_id  salesman_id\n",
      "0   70001.0     150.50  2012-10-05         3002       5002.0\n",
      "1         0     270.65  2012-09-10         3001       5003.0\n",
      "2   70002.0      65.26  2012-09-10         3001       5001.0\n",
      "4         0     948.50  2012-09-10         3002       5002.0\n",
      "5   70005.0    2400.60  2012-07-27         3001       5001.0\n",
      "6         0    5760.00  2012-09-10         3001       5001.0\n",
      "8   70003.0    2480.40  2012-10-10         3003       5003.0\n",
      "9   70012.0     250.45  2012-06-27         3002       5002.0\n",
      "10        0      75.29  2012-08-17         3001       5003.0\n"
     ]
    }
   ],
   "source": [
    "#2.4 replace the NA in the column 'ord_date' with value from the previous row\n",
    "df3['ord_date'].fillna(method='pad', inplace=True)\n",
    "print(df3)"
   ]
  },
  {
   "cell_type": "code",
   "execution_count": 13,
   "id": "f75aa7e4",
   "metadata": {},
   "outputs": [
    {
     "name": "stderr",
     "output_type": "stream",
     "text": [
      "/var/folders/h8/hss13lq96dl3q2h23z2v29280000gn/T/ipykernel_44709/4253346716.py:3: FutureWarning: Dropping invalid columns in DataFrameGroupBy.max is deprecated. In a future version, a TypeError will be raised. Before calling .max, select only columns which should be valid for the function.\n",
      "  df3.groupby(['salesman_id']).max()\n",
      "/var/folders/h8/hss13lq96dl3q2h23z2v29280000gn/T/ipykernel_44709/4253346716.py:4: FutureWarning: Dropping invalid columns in DataFrameGroupBy.min is deprecated. In a future version, a TypeError will be raised. Before calling .min, select only columns which should be valid for the function.\n",
      "  df3.groupby(['salesman_id']).min()\n"
     ]
    },
    {
     "data": {
      "text/html": [
       "<div>\n",
       "<style scoped>\n",
       "    .dataframe tbody tr th:only-of-type {\n",
       "        vertical-align: middle;\n",
       "    }\n",
       "\n",
       "    .dataframe tbody tr th {\n",
       "        vertical-align: top;\n",
       "    }\n",
       "\n",
       "    .dataframe thead th {\n",
       "        text-align: right;\n",
       "    }\n",
       "</style>\n",
       "<table border=\"1\" class=\"dataframe\">\n",
       "  <thead>\n",
       "    <tr style=\"text-align: right;\">\n",
       "      <th></th>\n",
       "      <th>purch_amt</th>\n",
       "      <th>ord_date</th>\n",
       "      <th>customer_id</th>\n",
       "    </tr>\n",
       "    <tr>\n",
       "      <th>salesman_id</th>\n",
       "      <th></th>\n",
       "      <th></th>\n",
       "      <th></th>\n",
       "    </tr>\n",
       "  </thead>\n",
       "  <tbody>\n",
       "    <tr>\n",
       "      <th>5001.0</th>\n",
       "      <td>65.26</td>\n",
       "      <td>2012-07-27</td>\n",
       "      <td>3001</td>\n",
       "    </tr>\n",
       "    <tr>\n",
       "      <th>5002.0</th>\n",
       "      <td>150.50</td>\n",
       "      <td>2012-06-27</td>\n",
       "      <td>3002</td>\n",
       "    </tr>\n",
       "    <tr>\n",
       "      <th>5003.0</th>\n",
       "      <td>75.29</td>\n",
       "      <td>2012-08-17</td>\n",
       "      <td>3001</td>\n",
       "    </tr>\n",
       "  </tbody>\n",
       "</table>\n",
       "</div>"
      ],
      "text/plain": [
       "             purch_amt    ord_date  customer_id\n",
       "salesman_id                                    \n",
       "5001.0           65.26  2012-07-27         3001\n",
       "5002.0          150.50  2012-06-27         3002\n",
       "5003.0           75.29  2012-08-17         3001"
      ]
     },
     "execution_count": 13,
     "metadata": {},
     "output_type": "execute_result"
    }
   ],
   "source": [
    "#2.5 Group the DataFrame by salesman and calculate each salesman's minimum, maximum and mean sales amount. (10 points)\n",
    "df3.groupby(['salesman_id']).mean()\n",
    "df3.groupby(['salesman_id']).max()\n",
    "df3.groupby(['salesman_id']).min()"
   ]
  },
  {
   "cell_type": "code",
   "execution_count": 14,
   "id": "9897dc3e",
   "metadata": {},
   "outputs": [
    {
     "name": "stdout",
     "output_type": "stream",
     "text": [
      "                        purch_amt\n",
      "ord_date   salesman_id           \n",
      "2012-06-27 5002.0          250.45\n",
      "2012-07-27 5001.0         2400.60\n",
      "2012-08-17 5003.0           75.29\n",
      "2012-09-10 5001.0         2912.63\n",
      "           5002.0          948.50\n",
      "           5003.0          270.65\n",
      "2012-10-05 5002.0          150.50\n",
      "2012-10-10 5003.0         2480.40\n"
     ]
    }
   ],
   "source": [
    "#2.6 Create a pivot table and find the total sale amount salesman wise and order date wise. (10 points)\n",
    "table = pd.pivot_table(df3,index=[\"ord_date\",\"salesman_id\"], values=\"purch_amt\")\n",
    "print(table)"
   ]
  }
 ],
 "metadata": {
  "kernelspec": {
   "display_name": "Python 3 (ipykernel)",
   "language": "python",
   "name": "python3"
  },
  "language_info": {
   "codemirror_mode": {
    "name": "ipython",
    "version": 3
   },
   "file_extension": ".py",
   "mimetype": "text/x-python",
   "name": "python",
   "nbconvert_exporter": "python",
   "pygments_lexer": "ipython3",
   "version": "3.9.7"
  }
 },
 "nbformat": 4,
 "nbformat_minor": 5
}
